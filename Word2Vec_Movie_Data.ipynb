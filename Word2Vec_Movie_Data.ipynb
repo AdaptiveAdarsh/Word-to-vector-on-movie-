{
 "cells": [
  {
   "cell_type": "code",
   "execution_count": 14,
   "metadata": {
    "id": "FLAcPDAffq0X"
   },
   "outputs": [],
   "source": [
    "import gensim\n",
    "import warnings\n",
    "warnings.filterwarnings('ignore')"
   ]
  },
  {
   "cell_type": "markdown",
   "metadata": {
    "id": "9FF4xvztqrIE"
   },
   "source": [
    "**Movie review data**"
   ]
  },
  {
   "cell_type": "code",
   "execution_count": 15,
   "metadata": {
    "colab": {
     "base_uri": "https://localhost:8080/",
     "height": 206
    },
    "id": "GVwTDVfgfwkI",
    "outputId": "7551dd38-6d7f-4571-89d5-2a33317c91aa"
   },
   "outputs": [
    {
     "data": {
      "text/html": [
       "<div>\n",
       "<style scoped>\n",
       "    .dataframe tbody tr th:only-of-type {\n",
       "        vertical-align: middle;\n",
       "    }\n",
       "\n",
       "    .dataframe tbody tr th {\n",
       "        vertical-align: top;\n",
       "    }\n",
       "\n",
       "    .dataframe thead th {\n",
       "        text-align: right;\n",
       "    }\n",
       "</style>\n",
       "<table border=\"1\" class=\"dataframe\">\n",
       "  <thead>\n",
       "    <tr style=\"text-align: right;\">\n",
       "      <th></th>\n",
       "      <th>id</th>\n",
       "      <th>review</th>\n",
       "    </tr>\n",
       "  </thead>\n",
       "  <tbody>\n",
       "    <tr>\n",
       "      <th>0</th>\n",
       "      <td>\"9999_0\"</td>\n",
       "      <td>\"Watching Time Chasers, it obvious that it was...</td>\n",
       "    </tr>\n",
       "    <tr>\n",
       "      <th>1</th>\n",
       "      <td>\"45057_0\"</td>\n",
       "      <td>\"I saw this film about 20 years ago and rememb...</td>\n",
       "    </tr>\n",
       "    <tr>\n",
       "      <th>2</th>\n",
       "      <td>\"15561_0\"</td>\n",
       "      <td>\"Minor Spoilers&lt;br /&gt;&lt;br /&gt;In New York, Joan B...</td>\n",
       "    </tr>\n",
       "    <tr>\n",
       "      <th>3</th>\n",
       "      <td>\"7161_0\"</td>\n",
       "      <td>\"I went to see this film with a great deal of ...</td>\n",
       "    </tr>\n",
       "    <tr>\n",
       "      <th>4</th>\n",
       "      <td>\"43971_0\"</td>\n",
       "      <td>\"Yes, I agree with everyone on this site this ...</td>\n",
       "    </tr>\n",
       "  </tbody>\n",
       "</table>\n",
       "</div>"
      ],
      "text/plain": [
       "          id                                             review\n",
       "0   \"9999_0\"  \"Watching Time Chasers, it obvious that it was...\n",
       "1  \"45057_0\"  \"I saw this film about 20 years ago and rememb...\n",
       "2  \"15561_0\"  \"Minor Spoilers<br /><br />In New York, Joan B...\n",
       "3   \"7161_0\"  \"I went to see this film with a great deal of ...\n",
       "4  \"43971_0\"  \"Yes, I agree with everyone on this site this ..."
      ]
     },
     "execution_count": 15,
     "metadata": {},
     "output_type": "execute_result"
    }
   ],
   "source": [
    "import pandas as pd\n",
    "df = pd.read_csv('unlabeledTrainData.tsv', header=0, delimiter=\"\\t\", quoting=3)\n",
    "df.head()"
   ]
  },
  {
   "cell_type": "markdown",
   "metadata": {
    "id": "LE6KnFXxi3bf"
   },
   "source": [
    "**Function to clean up the data**"
   ]
  },
  {
   "cell_type": "code",
   "execution_count": 16,
   "metadata": {
    "id": "WZMCt7ivi67H"
   },
   "outputs": [],
   "source": [
    "import re, string\n",
    "\n",
    "def clean_str(string):\n",
    "  \"\"\"\n",
    "  String cleaning before vectorization\n",
    "  \"\"\"\n",
    "  try:    \n",
    "    string = re.sub(r'^https?:\\/\\/<>.*[\\r\\n]*', '', string, flags=re.MULTILINE)\n",
    "    string = re.sub(r\"[^A-Za-z]\", \" \", string)         \n",
    "    words = string.strip().lower().split()    \n",
    "    words = [w for w in words if len(w)>=1]\n",
    "    return \" \".join(words)\t\n",
    "  except:\n",
    "    return \"\""
   ]
  },
  {
   "cell_type": "code",
   "execution_count": 17,
   "metadata": {
    "colab": {
     "base_uri": "https://localhost:8080/",
     "height": 206
    },
    "id": "jZoT3cJejDUG",
    "outputId": "04e1a43f-30a8-4d13-b7a8-d004f7f4218b"
   },
   "outputs": [
    {
     "data": {
      "text/html": [
       "<div>\n",
       "<style scoped>\n",
       "    .dataframe tbody tr th:only-of-type {\n",
       "        vertical-align: middle;\n",
       "    }\n",
       "\n",
       "    .dataframe tbody tr th {\n",
       "        vertical-align: top;\n",
       "    }\n",
       "\n",
       "    .dataframe thead th {\n",
       "        text-align: right;\n",
       "    }\n",
       "</style>\n",
       "<table border=\"1\" class=\"dataframe\">\n",
       "  <thead>\n",
       "    <tr style=\"text-align: right;\">\n",
       "      <th></th>\n",
       "      <th>id</th>\n",
       "      <th>review</th>\n",
       "      <th>clean_review</th>\n",
       "    </tr>\n",
       "  </thead>\n",
       "  <tbody>\n",
       "    <tr>\n",
       "      <th>0</th>\n",
       "      <td>\"9999_0\"</td>\n",
       "      <td>\"Watching Time Chasers, it obvious that it was...</td>\n",
       "      <td>watching time chasers it obvious that it was m...</td>\n",
       "    </tr>\n",
       "    <tr>\n",
       "      <th>1</th>\n",
       "      <td>\"45057_0\"</td>\n",
       "      <td>\"I saw this film about 20 years ago and rememb...</td>\n",
       "      <td>i saw this film about years ago and remember i...</td>\n",
       "    </tr>\n",
       "    <tr>\n",
       "      <th>2</th>\n",
       "      <td>\"15561_0\"</td>\n",
       "      <td>\"Minor Spoilers&lt;br /&gt;&lt;br /&gt;In New York, Joan B...</td>\n",
       "      <td>minor spoilers br br in new york joan barnard ...</td>\n",
       "    </tr>\n",
       "    <tr>\n",
       "      <th>3</th>\n",
       "      <td>\"7161_0\"</td>\n",
       "      <td>\"I went to see this film with a great deal of ...</td>\n",
       "      <td>i went to see this film with a great deal of e...</td>\n",
       "    </tr>\n",
       "    <tr>\n",
       "      <th>4</th>\n",
       "      <td>\"43971_0\"</td>\n",
       "      <td>\"Yes, I agree with everyone on this site this ...</td>\n",
       "      <td>yes i agree with everyone on this site this mo...</td>\n",
       "    </tr>\n",
       "  </tbody>\n",
       "</table>\n",
       "</div>"
      ],
      "text/plain": [
       "          id                                             review  \\\n",
       "0   \"9999_0\"  \"Watching Time Chasers, it obvious that it was...   \n",
       "1  \"45057_0\"  \"I saw this film about 20 years ago and rememb...   \n",
       "2  \"15561_0\"  \"Minor Spoilers<br /><br />In New York, Joan B...   \n",
       "3   \"7161_0\"  \"I went to see this film with a great deal of ...   \n",
       "4  \"43971_0\"  \"Yes, I agree with everyone on this site this ...   \n",
       "\n",
       "                                        clean_review  \n",
       "0  watching time chasers it obvious that it was m...  \n",
       "1  i saw this film about years ago and remember i...  \n",
       "2  minor spoilers br br in new york joan barnard ...  \n",
       "3  i went to see this film with a great deal of e...  \n",
       "4  yes i agree with everyone on this site this mo...  "
      ]
     },
     "execution_count": 17,
     "metadata": {},
     "output_type": "execute_result"
    }
   ],
   "source": [
    "df['clean_review'] = df['review'].apply(clean_str)\n",
    "df.head()"
   ]
  },
  {
   "cell_type": "markdown",
   "metadata": {
    "id": "NUyBl5OGjXN-"
   },
   "source": [
    "**Review to Word List**"
   ]
  },
  {
   "cell_type": "code",
   "execution_count": 18,
   "metadata": {
    "colab": {
     "base_uri": "https://localhost:8080/"
    },
    "id": "p8OB3QWSjRQv",
    "outputId": "e0c527b8-5243-4d99-ce54-7491ddda25a1"
   },
   "outputs": [
    {
     "name": "stdout",
     "output_type": "stream",
     "text": [
      "50000\n",
      "['watching', 'time', 'chasers', 'it', 'obvious', 'that', 'it', 'was', 'made', 'by', 'a', 'bunch', 'of', 'friends', 'maybe', 'they', 'were', 'sitting', 'around', 'one', 'day', 'in', 'film', 'school', 'and', 'said', 'hey', 'let', 's', 'pool', 'our', 'money', 'together', 'and', 'make', 'a', 'really', 'bad', 'movie', 'or', 'something', 'like', 'that', 'what', 'ever', 'they', 'said', 'they', 'still', 'ended', 'up', 'making', 'a', 'really', 'bad', 'movie', 'dull', 'story', 'bad', 'script', 'lame', 'acting', 'poor', 'cinematography', 'bottom', 'of', 'the', 'barrel', 'stock', 'music', 'etc', 'all', 'corners', 'were', 'cut', 'except', 'the', 'one', 'that', 'would', 'have', 'prevented', 'this', 'film', 's', 'release', 'life', 's', 'like', 'that']\n"
     ]
    }
   ],
   "source": [
    "#List to hold all words in each review\n",
    "documents = []\n",
    "\n",
    "#Iterate over each review\n",
    "for doc in df['clean_review']:\n",
    "    documents.append(doc.split(' '))\n",
    "\n",
    "print(len(documents))\n",
    "print(documents[0])"
   ]
  },
  {
   "cell_type": "code",
   "execution_count": 19,
   "metadata": {
    "id": "3ehqsDCrjl62"
   },
   "outputs": [],
   "source": [
    "#Build the model\n",
    "model = gensim.models.Word2Vec(documents, #Word list\n",
    "                               min_count=5, #Ignore all words with total frequency lower than this                           \n",
    "                               workers=6, #Number of CPU Cores\n",
    "                               vector_size=300,  #Embedding size\n",
    "                               window=5, #Maximum Distance between current and predicted word\n",
    "                               epochs=10   #Number of iterations over the text corpus\n",
    "                              ) "
   ]
  },
  {
   "cell_type": "markdown",
   "metadata": {
    "id": "Rg571CQTkG-1"
   },
   "source": [
    "**Document Vectors for Embedded Words**"
   ]
  },
  {
   "cell_type": "code",
   "execution_count": 20,
   "metadata": {
    "colab": {
     "base_uri": "https://localhost:8080/"
    },
    "id": "KaN5fGMskKQ1",
    "outputId": "3b3b38bb-4d6e-41e0-c457-1502d391edbc"
   },
   "outputs": [
    {
     "data": {
      "text/plain": [
       "array([-0.6129727 ,  0.03158724, -0.76126605,  0.07857632,  1.0769459 ,\n",
       "       -0.3723051 , -0.8580457 , -2.116642  , -0.8613273 ,  1.167159  ,\n",
       "       -0.19922747,  0.45473295,  0.48717636, -0.96262646,  0.4570663 ,\n",
       "       -0.33170342, -0.5648217 ,  0.55435133,  0.04163346,  0.49153295,\n",
       "       -0.7493846 , -0.32686207, -0.27267358, -0.20102808, -1.2726067 ,\n",
       "        0.00394259, -1.0117022 , -0.44632164,  0.5445328 , -0.68986213,\n",
       "       -0.01636921, -0.03826097, -0.60647863, -0.5248712 , -0.44557777,\n",
       "        0.3645087 , -0.95385087,  1.4731786 ,  0.29206336, -0.529396  ,\n",
       "       -1.092436  ,  0.4813883 , -0.20871745,  0.13180968, -1.2102152 ,\n",
       "        0.40938166,  0.3339924 ,  1.4949929 , -0.3253896 , -0.23088454,\n",
       "       -0.6295665 , -0.4684444 ,  0.5617911 , -1.2629836 , -0.17673829,\n",
       "        0.17421454, -0.27977252,  0.13977978,  0.2053538 ,  0.88568103,\n",
       "       -0.8179156 ,  0.06108671,  1.0412977 ,  0.9926023 ,  0.36246687,\n",
       "       -1.048939  , -0.6633383 ,  0.38076702, -0.06178578, -0.8902499 ,\n",
       "        0.27324894, -0.43551323, -0.0854985 ,  0.14880684, -0.1243249 ,\n",
       "       -1.3718154 , -1.0056901 , -0.58867055, -0.89695364, -0.40327337,\n",
       "       -1.6096313 ,  0.95718706, -0.08065137, -1.1595782 ,  0.37265876,\n",
       "       -0.13808763,  0.25881773, -1.0360912 , -0.46133956, -0.6379531 ,\n",
       "        0.5526582 ,  0.17559722,  1.031841  ,  0.9957196 , -0.138703  ,\n",
       "        0.9071165 , -0.30313876, -1.0699143 , -0.2678046 , -0.03708689,\n",
       "        0.8893504 ,  0.6463602 , -0.7191342 , -0.47638524, -1.6874698 ,\n",
       "        0.0172746 ,  0.19064485, -2.2271128 ,  1.3574762 , -0.43767124,\n",
       "        1.292922  ,  1.4267371 ,  0.2087623 ,  0.73527914, -0.6827834 ,\n",
       "        0.03676317,  0.9718871 ,  0.46567243, -0.9631875 , -0.89859664,\n",
       "       -0.3924178 ,  0.58702326, -0.3221066 , -0.26898277, -0.6886665 ,\n",
       "        0.2472744 , -0.20212197, -0.7795146 ,  1.4079823 , -0.14958718,\n",
       "        0.53920895,  0.33808017, -0.31937808,  0.21359912,  0.8259019 ,\n",
       "        0.13327977, -0.76937157, -0.2828931 , -0.36569694,  0.17802964,\n",
       "        0.7699207 , -0.35425705, -0.99612814,  0.9623645 ,  0.5807295 ,\n",
       "       -0.47112784,  1.2017719 , -0.52707565, -0.49380845, -1.6130433 ,\n",
       "        0.29228348,  0.3890462 ,  0.78538644,  1.5374829 ,  0.27253908,\n",
       "        0.7357095 , -0.18642513,  0.68977964, -0.14134945,  0.5233002 ,\n",
       "       -0.5581141 , -0.9904866 , -0.02827549,  0.59569615,  0.38632637,\n",
       "        0.10997873, -0.04285096,  0.43279877, -0.5626463 ,  0.89880484,\n",
       "        1.8697776 ,  0.05124994,  0.16748653,  0.39891428,  0.8494039 ,\n",
       "        0.16536665,  0.42303956, -0.6342579 ,  0.48011875, -0.5581173 ,\n",
       "       -0.40873635, -0.408798  ,  0.5441699 ,  1.2452629 , -1.2246683 ,\n",
       "       -0.17359571, -0.12324896,  1.7575052 , -0.11200819,  1.3741053 ,\n",
       "        0.13145682, -0.67091763,  0.6526606 , -0.8706303 ,  0.3372854 ,\n",
       "       -0.626297  ,  0.24365635,  1.4656999 , -0.6571877 ,  1.5978925 ,\n",
       "        0.49244276,  0.3945812 , -0.86600167,  1.182021  ,  0.37019533,\n",
       "        0.08550666, -1.2160517 , -0.95511824,  0.24954316, -0.5328614 ,\n",
       "        1.0603583 ,  1.5264767 ,  0.461064  ,  0.9167003 ,  1.2549963 ,\n",
       "       -0.4661423 ,  0.20712952,  1.3160952 ,  0.33303958,  0.2880506 ,\n",
       "       -1.1752706 ,  1.2853401 ,  0.8434601 ,  0.84696066, -0.5641475 ,\n",
       "       -0.59236616,  0.30097896, -0.23079161, -0.99815166,  0.5533873 ,\n",
       "        1.0358944 , -1.4944483 , -0.8945744 , -0.52191377, -0.15254179,\n",
       "        0.8697617 , -0.40846342,  0.5827163 , -0.09228677, -0.7823824 ,\n",
       "        0.54616845, -0.7771988 , -0.01881086,  0.73956454,  1.2253615 ,\n",
       "       -0.5535704 ,  0.9125297 , -0.2364408 ,  1.237088  ,  0.26072678,\n",
       "       -0.10119683,  0.55324566,  0.78946126,  1.3855579 , -0.07081737,\n",
       "       -0.19546844,  0.09974013,  0.54823214, -0.36727196,  0.36578396,\n",
       "        0.13269663,  1.6326118 ,  0.32463902,  1.618539  , -0.58883476,\n",
       "        1.6885761 , -0.99439406,  2.1877768 , -1.0160565 ,  1.5664152 ,\n",
       "        1.340945  , -1.1172622 ,  0.42154318,  0.6129398 ,  1.5320368 ,\n",
       "       -0.41261336,  1.3823388 ,  0.49584034, -1.0021111 ,  0.9473049 ,\n",
       "       -0.09724855, -0.02121496, -1.0699854 ,  1.3001695 , -1.7142701 ,\n",
       "        0.31028545, -0.66316175, -0.06563484, -1.2743983 ,  0.71411014,\n",
       "       -0.99192125,  1.6539825 ,  0.5068565 , -1.5081784 ,  1.7774116 ,\n",
       "        0.37579566,  1.599662  ,  1.7844663 ,  1.1535125 ,  0.11214068],\n",
       "      dtype=float32)"
      ]
     },
     "execution_count": 20,
     "metadata": {},
     "output_type": "execute_result"
    }
   ],
   "source": [
    "model.wv['fantastic']"
   ]
  },
  {
   "cell_type": "code",
   "execution_count": 21,
   "metadata": {
    "colab": {
     "base_uri": "https://localhost:8080/"
    },
    "id": "L-eDGRk7kVO9",
    "outputId": "c67c98d4-cd17-48cb-c9c9-898b055d67b3"
   },
   "outputs": [
    {
     "data": {
      "text/plain": [
       "array([-4.78994995e-01,  2.33480036e-02,  1.59555420e-01, -9.31204110e-02,\n",
       "        4.06616479e-01,  7.12589204e-01, -5.07033288e-01, -7.87479758e-01,\n",
       "        3.73401046e-01,  4.26930666e-01, -4.03651237e-01, -1.91450262e+00,\n",
       "        2.95414031e-01, -1.32307768e+00, -4.90595132e-01,  2.41224051e-01,\n",
       "       -1.63986766e+00, -5.10002553e-01, -4.90193861e-03,  1.42719567e+00,\n",
       "        2.86566734e-01,  7.63135374e-01, -9.05259490e-01, -1.03871214e+00,\n",
       "       -5.23563564e-01,  9.06619728e-01,  4.05460387e-01, -7.88633347e-01,\n",
       "        1.09709188e-01,  4.60618228e-01, -9.12347555e-01, -1.48872480e-01,\n",
       "        2.01003027e+00, -2.95650005e-01, -9.56210732e-01,  1.20557201e+00,\n",
       "       -7.28900373e-01,  1.38988972e+00, -1.06541443e+00,  6.53742015e-01,\n",
       "        1.01946628e+00, -9.44862328e-03,  2.80512542e-01,  1.10697949e+00,\n",
       "       -1.58003315e-01,  1.11936353e-01, -7.06149518e-01, -6.55488074e-01,\n",
       "        6.03442430e-01,  7.39882946e-01, -8.24782729e-01, -1.54603496e-01,\n",
       "        4.17431295e-01,  1.58896661e+00,  5.95346332e-01,  3.89966071e-01,\n",
       "        1.15444493e-02, -1.32182598e+00,  6.72014177e-01,  4.12180647e-02,\n",
       "        4.00343388e-02,  5.75945139e-01, -1.69171274e+00, -5.03191888e-01,\n",
       "       -8.06751728e-01, -9.59575951e-01, -1.33924460e+00,  1.45867050e-01,\n",
       "        7.52814114e-01, -1.49655426e+00, -3.38063955e-01, -1.72611630e+00,\n",
       "        5.86826921e-01,  1.33803809e+00, -6.12918615e-01, -1.35114110e+00,\n",
       "        1.30413815e-01,  1.13350689e+00, -5.83036661e-01, -7.91902602e-01,\n",
       "       -2.66991138e-01,  3.00061762e-01,  3.13201010e-01, -1.02869487e+00,\n",
       "       -1.31794333e+00, -4.27399188e-01, -9.06880498e-02, -3.38704348e-01,\n",
       "        4.22027081e-01, -3.00662726e-01,  1.60870343e-01,  4.29007292e-01,\n",
       "        1.41297841e+00,  3.35418135e-01, -3.90360713e-01, -5.14612317e-01,\n",
       "       -1.38874984e+00, -1.82557717e-01, -8.49292353e-02, -4.80377942e-01,\n",
       "       -4.21261996e-01,  1.82728797e-01, -3.47576499e-01, -1.35153741e-01,\n",
       "       -7.53527045e-01, -1.61585343e+00, -1.46177065e+00, -9.27421927e-01,\n",
       "       -5.51026702e-01, -8.80743340e-02,  5.39974630e-01,  1.36417434e-01,\n",
       "        5.49248699e-03, -1.53311461e-01, -1.28802121e+00,  1.16431393e-01,\n",
       "       -5.21190345e-01,  2.87504435e-01, -8.31937313e-01,  1.23698628e+00,\n",
       "        7.00648904e-01,  4.91022542e-02, -6.72209978e-01,  1.06402263e-02,\n",
       "       -6.10275686e-01,  6.87569737e-01, -1.51442155e-01, -4.65157807e-01,\n",
       "       -1.03145754e+00,  3.59497428e-01, -4.92131293e-01,  2.87947685e-01,\n",
       "        1.05748034e+00, -6.95860922e-01,  1.48447549e+00, -2.79857963e-01,\n",
       "       -1.41224885e+00, -6.74979016e-02, -5.34074247e-01,  7.23064959e-01,\n",
       "        9.96052086e-01,  8.25424731e-01,  1.29719377e+00,  6.92137718e-01,\n",
       "        7.89383352e-01, -3.60269457e-01,  1.16836619e+00, -5.01838028e-01,\n",
       "       -7.73267224e-02,  1.77393276e-02,  2.33154614e-02, -1.43361419e-01,\n",
       "        4.28349853e-01,  9.43734467e-01, -5.61743319e-01, -3.97414744e-01,\n",
       "       -1.37008262e+00, -1.15618765e-01,  2.70555556e-01, -8.95082474e-01,\n",
       "        4.00598556e-01, -2.37306833e+00,  4.49153632e-01,  3.85430992e-01,\n",
       "       -6.39206767e-01,  6.25742018e-01,  2.53654540e-01,  1.43336046e+00,\n",
       "        4.32566762e-01,  6.37653708e-01,  1.46533453e+00, -1.22463424e-02,\n",
       "        2.27249563e-01,  2.64441133e-01,  4.42400157e-01,  6.72551155e-01,\n",
       "       -3.04964751e-01,  3.27207774e-01,  4.57588047e-01, -4.57187980e-01,\n",
       "        4.98339862e-01, -6.99268341e-01,  6.82431310e-02,  2.56585300e-01,\n",
       "       -9.53948855e-01, -2.38049147e-03, -6.78585649e-01,  3.00063729e-01,\n",
       "       -8.24785292e-01,  3.86129767e-01, -1.47421807e-01,  7.51889721e-02,\n",
       "        5.70201933e-01, -3.37326586e-01,  1.47942770e+00,  6.38120353e-01,\n",
       "       -3.98272276e-01, -6.26695633e-01,  3.12394410e-01, -6.65743828e-01,\n",
       "       -3.82913917e-01,  3.09372455e-01,  1.60050496e-01, -1.70439482e-01,\n",
       "       -1.43914983e-01, -1.08706737e+00,  4.78076845e-01, -1.20450817e-01,\n",
       "        7.04656303e-01, -4.50829595e-01,  8.79325449e-01,  1.15519309e+00,\n",
       "       -4.75522339e-01,  8.77203465e-01,  5.21935344e-01,  5.77081203e-01,\n",
       "        9.82792675e-01,  9.42358136e-01, -1.43772205e-02,  2.92584240e-01,\n",
       "       -7.45061040e-01, -5.64131379e-01,  2.12346781e-02, -2.89199874e-02,\n",
       "        7.89790571e-01, -1.45503449e+00,  1.01651931e+00, -4.73584533e-02,\n",
       "        2.07358137e-01,  4.20607328e-01, -4.39523578e-01, -6.63806051e-02,\n",
       "       -4.43626434e-01, -1.08078849e+00,  6.63707495e-01, -8.33336830e-01,\n",
       "       -4.82808322e-01, -1.36934202e-02,  1.34646904e+00, -7.84945607e-01,\n",
       "       -9.40417754e-04, -2.07725382e+00,  4.93135909e-03,  8.82873908e-02,\n",
       "       -5.56136012e-01, -4.77943927e-01, -7.41272092e-01, -5.37798405e-02,\n",
       "        6.40377477e-02,  1.20590913e+00,  7.08938539e-02, -3.53360951e-01,\n",
       "        2.46283114e-01,  1.20430216e-01,  1.67397451e+00,  1.33800709e+00,\n",
       "        6.52739167e-01, -5.06913900e-01, -1.98544249e-01, -1.93975210e-01,\n",
       "        4.64773038e-03,  2.23710552e-01,  4.46414769e-01,  1.25894034e+00,\n",
       "       -2.15048566e-01,  1.12966204e+00, -3.90155204e-02, -2.21040323e-01,\n",
       "        9.54220966e-02,  5.43501198e-01,  1.13383853e+00, -9.28126991e-01,\n",
       "        9.51072991e-01,  1.14825463e+00,  2.66833395e-01, -8.62501323e-01,\n",
       "        2.30298843e-03,  1.08690190e+00, -4.23720777e-01,  4.13318157e-01,\n",
       "        1.97016507e-01, -9.20224264e-02,  5.30736521e-03,  2.32742503e-02,\n",
       "       -8.41240168e-01,  4.37057763e-01, -1.00230205e+00, -5.71803264e-02,\n",
       "       -6.32029235e-01,  3.51975054e-01,  1.41464102e+00,  1.03603232e+00,\n",
       "        6.50905788e-01, -2.34033972e-01,  2.01860428e-01, -3.57143670e-01,\n",
       "        1.14297605e+00,  9.14838165e-02, -7.89322555e-01,  3.06867421e-01],\n",
       "      dtype=float32)"
      ]
     },
     "execution_count": 21,
     "metadata": {},
     "output_type": "execute_result"
    }
   ],
   "source": [
    "model.wv['pathetic']"
   ]
  },
  {
   "cell_type": "markdown",
   "metadata": {
    "id": "AO-XFxB8s2Vy"
   },
   "source": [
    "**Similarity of the Words**"
   ]
  },
  {
   "cell_type": "code",
   "execution_count": 22,
   "metadata": {
    "colab": {
     "base_uri": "https://localhost:8080/"
    },
    "id": "nf2BVlW3kYG3",
    "outputId": "9fdd2bf8-97b1-4dad-9f99-b95a81997130"
   },
   "outputs": [
    {
     "data": {
      "text/plain": [
       "[('terrific', 0.7814262509346008),\n",
       " ('fabulous', 0.7690280079841614),\n",
       " ('wonderful', 0.7650262117385864),\n",
       " ('superb', 0.7426376938819885),\n",
       " ('phenomenal', 0.7359784245491028),\n",
       " ('great', 0.7234622836112976),\n",
       " ('brilliant', 0.7121571898460388),\n",
       " ('marvelous', 0.7044367790222168),\n",
       " ('excellent', 0.6931370496749878),\n",
       " ('stunning', 0.673054039478302)]"
      ]
     },
     "execution_count": 22,
     "metadata": {},
     "output_type": "execute_result"
    }
   ],
   "source": [
    "model.wv.most_similar('fantastic')"
   ]
  },
  {
   "cell_type": "code",
   "execution_count": 23,
   "metadata": {
    "colab": {
     "base_uri": "https://localhost:8080/"
    },
    "id": "pGC9vbYVtJ-6",
    "outputId": "dcde2550-a69b-4b4a-c5d3-69dd13c499dc"
   },
   "outputs": [
    {
     "data": {
      "text/plain": [
       "[('pitiful', 0.6980125904083252),\n",
       " ('laughable', 0.6591284871101379),\n",
       " ('lame', 0.653693437576294),\n",
       " ('ridiculous', 0.6456886529922485),\n",
       " ('stupid', 0.6244801878929138),\n",
       " ('horrible', 0.6083274483680725),\n",
       " ('horrendous', 0.6050158143043518),\n",
       " ('atrocious', 0.5868836641311646),\n",
       " ('dreadful', 0.581160306930542),\n",
       " ('terrible', 0.5809403657913208)]"
      ]
     },
     "execution_count": 23,
     "metadata": {},
     "output_type": "execute_result"
    }
   ],
   "source": [
    "model.wv.most_similar('pathetic')"
   ]
  },
  {
   "cell_type": "code",
   "execution_count": 24,
   "metadata": {
    "colab": {
     "base_uri": "https://localhost:8080/"
    },
    "id": "g-AGEudCtP7Z",
    "outputId": "72d699d0-1fd3-44ae-c125-63376976b7b2"
   },
   "outputs": [
    {
     "data": {
      "text/plain": [
       "[('hindi', 0.6735062003135681),\n",
       " ('hollywood', 0.5615265965461731),\n",
       " ('mainstream', 0.5589401125907898),\n",
       " ('hk', 0.5137766599655151),\n",
       " ('tamil', 0.49169084429740906),\n",
       " ('blaxploitation', 0.4800868332386017),\n",
       " ('filipino', 0.47959044575691223),\n",
       " ('nowadays', 0.47797441482543945),\n",
       " ('genre', 0.4712223708629608),\n",
       " ('sf', 0.47045210003852844)]"
      ]
     },
     "execution_count": 24,
     "metadata": {},
     "output_type": "execute_result"
    }
   ],
   "source": [
    "model.wv.most_similar('bollywood')"
   ]
  },
  {
   "cell_type": "code",
   "execution_count": null,
   "metadata": {
    "colab": {
     "base_uri": "https://localhost:8080/"
    },
    "id": "kAIOJbFttap6",
    "outputId": "0ae4a717-2f95-400f-e887-32ce88aba716"
   },
   "outputs": [],
   "source": [
    "model.wv.most_similar('mumbai')"
   ]
  },
  {
   "cell_type": "markdown",
   "metadata": {
    "id": "NR3j7yvvuuXZ"
   },
   "source": [
    "**Saving the Model**"
   ]
  },
  {
   "cell_type": "code",
   "execution_count": null,
   "metadata": {
    "id": "bh_cCOtXuyNS"
   },
   "outputs": [],
   "source": [
    "model.save('word2vec-movie-dataset')"
   ]
  },
  {
   "cell_type": "markdown",
   "metadata": {
    "id": "hqk_VhqNvAIU"
   },
   "source": [
    "**Loading the Model**"
   ]
  },
  {
   "cell_type": "code",
   "execution_count": null,
   "metadata": {
    "id": "jhMfgW-lvEih"
   },
   "outputs": [],
   "source": [
    "#Load model from memory\n",
    "model = gensim.models.Word2Vec.load('word2vec-movie-dataset')"
   ]
  },
  {
   "cell_type": "markdown",
   "metadata": {
    "id": "Yjd-9FGOvhyq"
   },
   "source": [
    "**Relationship**"
   ]
  },
  {
   "cell_type": "markdown",
   "metadata": {
    "id": "VwO_9W0tvrsi"
   },
   "source": [
    "1. Equation king + man = queen + ?\n",
    "2. In this case there may not be enough data for this equation"
   ]
  },
  {
   "cell_type": "code",
   "execution_count": null,
   "metadata": {
    "colab": {
     "base_uri": "https://localhost:8080/"
    },
    "id": "rHjnb5qqvlPC",
    "outputId": "28bc0541-b427-403f-e561-9b155ac48bf2"
   },
   "outputs": [
    {
     "data": {
      "text/plain": [
       "[('master', 0.3433687388896942),\n",
       " ('filmmaker', 0.3381901681423187),\n",
       " ('joker', 0.3330538272857666),\n",
       " ('ness', 0.3229394555091858),\n",
       " ('men', 0.317975789308548),\n",
       " ('genius', 0.30485010147094727),\n",
       " ('batman', 0.3044992685317993),\n",
       " ('actor', 0.3033349812030792),\n",
       " ('soderbergh', 0.2990267872810364),\n",
       " ('boy', 0.28895556926727295)]"
      ]
     },
     "execution_count": 20,
     "metadata": {},
     "output_type": "execute_result"
    }
   ],
   "source": [
    "model.wv.most_similar(positive=['king','man'], negative=['queen'])"
   ]
  },
  {
   "cell_type": "markdown",
   "metadata": {
    "id": "nxPmRwXJxAd7"
   },
   "source": [
    "1. We do not get the right mapping here because there are not enough data corresponding to above mapping to get better results.\n",
    "2. We can train models by running more number of EPOCHS."
   ]
  },
  {
   "cell_type": "code",
   "execution_count": null,
   "metadata": {
    "colab": {
     "base_uri": "https://localhost:8080/"
    },
    "id": "itgQvfrGxhZo",
    "outputId": "66a2d1e2-8752-4817-e453-1efe451ed180"
   },
   "outputs": [
    {
     "data": {
      "text/plain": [
       "[('princess', 0.4584004580974579),\n",
       " ('prince', 0.4026755094528198),\n",
       " ('mistress', 0.4006645381450653),\n",
       " ('antoinette', 0.4002799689769745),\n",
       " ('queen', 0.3930467963218689),\n",
       " ('margaret', 0.3915702998638153),\n",
       " ('countess', 0.38586390018463135),\n",
       " ('mai', 0.38177311420440674),\n",
       " ('norma', 0.37973058223724365),\n",
       " ('marie', 0.37907224893569946)]"
      ]
     },
     "execution_count": 21,
     "metadata": {},
     "output_type": "execute_result"
    }
   ],
   "source": [
    "model.wv.most_similar(positive=['woman', 'king'], negative=['man'])"
   ]
  },
  {
   "cell_type": "code",
   "execution_count": null,
   "metadata": {
    "colab": {
     "base_uri": "https://localhost:8080/"
    },
    "id": "Mndiafgqx7I_",
    "outputId": "3d442a44-b133-465e-c667-365e26786289"
   },
   "outputs": [
    {
     "data": {
      "text/plain": [
       "[('dad', 0.5750482678413391),\n",
       " ('grandfather', 0.5738402009010315),\n",
       " ('mom', 0.5605438947677612),\n",
       " ('son', 0.5217747092247009),\n",
       " ('grandmother', 0.5186290144920349),\n",
       " ('parents', 0.47951704263687134),\n",
       " ('brother', 0.47604134678840637),\n",
       " ('husband', 0.46357232332229614),\n",
       " ('uncle', 0.45768845081329346),\n",
       " ('grandma', 0.45311906933784485)]"
      ]
     },
     "execution_count": 28,
     "metadata": {},
     "output_type": "execute_result"
    }
   ],
   "source": [
    "model.wv.most_similar(positive=['father','mother'], negative=['daughter'])"
   ]
  },
  {
   "cell_type": "code",
   "execution_count": null,
   "metadata": {
    "colab": {
     "base_uri": "https://localhost:8080/"
    },
    "id": "YffC4O3wys7u",
    "outputId": "c6f1fdeb-2606-4d17-fce9-dbc68e79597d"
   },
   "outputs": [
    {
     "data": {
      "text/plain": [
       "array([ 1.25944877e+00,  2.25785971e+00,  9.96634126e-01,  1.13741517e+00,\n",
       "        1.44470322e+00, -5.36391020e-01, -1.65538669e-01, -9.36322331e-01,\n",
       "        4.59440351e-01,  2.11135268e+00, -2.76659489e-01, -4.69175965e-01,\n",
       "        1.53987372e+00, -1.82529414e+00, -3.28232855e-01, -5.25665760e-01,\n",
       "        2.02382088e+00, -8.79832134e-02,  3.12511325e-01, -9.10004258e-01,\n",
       "       -1.72134686e+00,  2.30993295e+00, -2.03554296e+00, -7.00923085e-01,\n",
       "        2.22210944e-01,  1.25676513e+00, -1.60634518e-02, -3.19600224e-01,\n",
       "        5.74525714e-01, -1.60235155e+00, -9.03960586e-01, -1.95198870e+00,\n",
       "       -7.01595068e-01, -4.41825151e-01, -7.09805012e-01, -4.89496469e-01,\n",
       "       -3.67840767e-01,  3.37533712e-01,  1.36266041e+00, -5.35406232e-01,\n",
       "       -2.55608678e-01,  2.36379027e-01, -2.68875504e+00,  5.55121422e-01,\n",
       "        3.38687837e-01, -1.08207679e+00,  3.23990345e-01,  2.58333087e-01,\n",
       "        1.53264880e+00, -1.35585809e+00,  1.11913896e+00,  1.27048445e+00,\n",
       "       -4.73133475e-01,  1.11152029e+00,  8.04756701e-01, -5.20777941e-01,\n",
       "       -1.49846756e+00, -4.26949799e-01,  3.19703400e-01, -1.50213838e+00,\n",
       "        2.71582603e-03, -3.77405465e-01, -1.85733354e+00, -1.19451225e+00,\n",
       "        1.70887411e+00,  5.05261123e-02, -5.58404565e-01, -8.32329631e-01,\n",
       "        5.16239822e-01,  1.53958464e+00,  1.72581053e+00,  1.02835715e-01,\n",
       "        7.22037971e-01,  1.26497912e+00, -3.30143237e+00, -1.42985678e+00,\n",
       "        1.07696557e+00, -3.46938920e+00,  9.36253071e-01, -1.04810882e+00,\n",
       "       -1.78659901e-01, -4.67149317e-02,  1.65561962e+00,  6.55222654e-01,\n",
       "       -5.73266327e-01, -8.79875958e-01, -1.05009699e+00,  2.00434446e-01,\n",
       "        1.74363494e+00,  7.32000113e-01, -8.32295299e-01,  5.98667443e-01,\n",
       "       -5.54766417e-01, -2.99397796e-01, -2.79699683e-01,  1.95186764e-01,\n",
       "        1.28056145e+00, -2.93115079e-01,  5.89629054e-01,  7.13099360e-01,\n",
       "       -6.39438987e-01, -6.71387911e-01, -3.74673271e+00, -1.09175563e-01,\n",
       "        1.71089768e-01, -2.15632990e-01, -1.05735099e+00,  3.31819654e-01,\n",
       "       -2.47419119e+00,  2.17959738e+00,  8.79180312e-01,  2.12059832e+00,\n",
       "       -3.82133007e-01, -1.89921856e+00,  1.18614221e+00, -2.60263085e-02,\n",
       "       -7.94573307e-01, -3.00828385e+00, -2.00399578e-01,  1.54380238e+00,\n",
       "        1.61523151e+00, -1.48764944e+00, -7.14749694e-01,  4.40395087e-01,\n",
       "       -1.76499516e-01,  1.39122379e+00, -9.84966874e-01, -4.48849648e-01,\n",
       "        1.30096006e+00,  1.37301564e-01, -1.27100921e+00,  3.32118213e-01,\n",
       "        1.05769968e+00, -9.33298320e-02,  2.60156751e+00, -8.80090594e-01,\n",
       "       -1.31500173e+00, -2.87389326e+00, -1.00246024e+00,  5.10099649e-01,\n",
       "        4.89701509e-01,  2.08218884e+00,  1.99287367e+00,  2.84030676e-01,\n",
       "        8.41456532e-01, -2.42625117e-01,  7.38514423e-01, -5.82436919e-01,\n",
       "       -7.16286242e-01,  1.11904633e+00, -9.44174767e-01, -9.85885620e-01,\n",
       "       -1.12061882e+00,  9.77329016e-02,  2.80797482e-03, -1.37448287e+00,\n",
       "       -1.76595628e+00, -2.95260453e+00,  9.10142183e-01, -2.65987706e+00,\n",
       "        1.80145884e+00, -6.69016659e-01, -2.99931669e+00,  9.48282480e-01,\n",
       "        2.13719416e+00, -9.13027823e-02, -2.54864812e-01,  2.39091587e+00,\n",
       "        2.22531939e+00,  5.51710725e-01, -3.97481292e-01, -2.36300993e+00,\n",
       "       -2.17157722e+00,  6.98877573e-01, -1.74249291e+00, -1.41225636e+00,\n",
       "       -8.00900221e-01, -1.30338395e+00, -1.16306007e+00, -7.23574519e-01,\n",
       "       -1.39378607e+00,  1.88264692e+00, -7.91208267e-01,  7.70068288e-01,\n",
       "       -2.64797020e+00,  1.44414067e+00,  1.15645266e+00,  2.24032402e+00,\n",
       "       -9.47781801e-02, -1.05496645e-01,  1.38479900e+00, -1.04779661e-01,\n",
       "       -2.45449138e+00, -4.35561031e-01, -9.66201603e-01, -4.88613844e-02,\n",
       "        3.63850331e+00, -1.06633902e-02,  4.04192805e-01, -2.11075211e+00,\n",
       "       -6.22248292e-01, -4.38062787e-01,  1.72626328e+00, -1.31372011e+00,\n",
       "        1.24012899e+00, -3.09717178e-01, -8.53533030e-01,  1.01460397e+00,\n",
       "       -6.00982010e-01,  1.31398463e+00, -6.72814965e-01, -1.36956096e+00,\n",
       "       -8.47784162e-01,  2.76048660e-01,  2.55686784e+00, -2.78012455e-01,\n",
       "       -1.59182787e+00, -2.32387328e+00, -6.40092850e-01, -1.48655605e+00,\n",
       "       -8.40896726e-01, -1.09661889e+00,  1.87130594e+00, -2.38264263e-01,\n",
       "        1.10604608e+00,  1.41221553e-01, -1.52311218e+00, -3.97367179e-01,\n",
       "        1.00970614e+00,  9.03875232e-02, -1.86554170e+00, -1.10626328e+00,\n",
       "        3.27095985e-02,  2.73530245e+00, -4.00903553e-01, -4.85807151e-01,\n",
       "       -1.86333716e-01,  3.82763684e-01,  2.28559554e-01, -2.17202067e-01,\n",
       "        4.31999981e-01,  1.65967941e+00, -2.47871804e+00, -2.37377167e+00,\n",
       "       -4.37504005e+00, -8.69621515e-01,  1.85340643e-01,  1.03003252e+00,\n",
       "        3.52587283e-01,  1.26456428e+00, -1.07598233e+00,  1.58599949e+00,\n",
       "       -1.24602115e+00,  1.00718462e+00,  4.47369933e-01,  1.20655775e+00,\n",
       "        9.29190874e-01,  1.70925164e+00,  4.64326233e-01, -1.97277927e+00,\n",
       "        8.14874247e-02, -1.38247919e+00, -1.82630098e+00,  8.32782447e-01,\n",
       "        6.97518468e-01,  9.43137467e-01,  4.62042212e-01,  6.67167306e-02,\n",
       "        1.29826486e+00,  1.12411022e+00, -1.67458820e+00,  3.43459272e+00,\n",
       "       -5.56203783e-01,  2.85627460e+00, -3.61224532e+00,  2.38810205e+00,\n",
       "       -1.11469507e+00,  1.06288755e+00, -1.84992647e+00,  5.50255835e-01,\n",
       "        2.56887436e+00, -5.38114488e-01,  4.19791013e-01,  9.77699816e-01,\n",
       "        4.10792232e-02, -9.04999495e-01,  8.91615987e-01,  5.31060696e-01,\n",
       "        1.35257542e+00, -4.97638047e-01,  1.18439126e+00, -2.48113966e+00,\n",
       "       -1.31383479e-01, -2.75560093e+00, -1.51483691e+00,  4.88471538e-01,\n",
       "       -1.31641984e+00, -5.64051926e-01, -4.18100119e-01,  3.73941064e-02],\n",
       "      dtype=float32)"
      ]
     },
     "execution_count": 25,
     "metadata": {},
     "output_type": "execute_result"
    }
   ],
   "source": [
    "model.wv['mother'] + model.wv['father']-model.wv['daughter']"
   ]
  }
 ],
 "metadata": {
  "colab": {
   "provenance": []
  },
  "kernelspec": {
   "display_name": "Python 3 (ipykernel)",
   "language": "python",
   "name": "python3"
  },
  "language_info": {
   "codemirror_mode": {
    "name": "ipython",
    "version": 3
   },
   "file_extension": ".py",
   "mimetype": "text/x-python",
   "name": "python",
   "nbconvert_exporter": "python",
   "pygments_lexer": "ipython3",
   "version": "3.10.9"
  }
 },
 "nbformat": 4,
 "nbformat_minor": 1
}
